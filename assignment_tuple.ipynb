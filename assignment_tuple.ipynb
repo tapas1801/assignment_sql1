{
 "cells": [
  {
   "cell_type": "markdown",
   "id": "1832077a",
   "metadata": {},
   "source": [
    "# 1). Create a tuple called data with two values, (1, 2) and (3, 4)"
   ]
  },
  {
   "cell_type": "code",
   "execution_count": 2,
   "id": "9982d4aa",
   "metadata": {},
   "outputs": [
    {
     "name": "stdout",
     "output_type": "stream",
     "text": [
      "((1, 2), (3, 4))\n"
     ]
    },
    {
     "data": {
      "text/plain": [
       "tuple"
      ]
     },
     "execution_count": 2,
     "metadata": {},
     "output_type": "execute_result"
    }
   ],
   "source": [
    "data = ((1,2),(3,4) )\n",
    "print(data)\n",
    "type(data)"
   ]
  },
  {
   "cell_type": "markdown",
   "id": "7d3e608d",
   "metadata": {},
   "source": [
    "# 2). Create the list [4, 3, 2, 1] and assign it to variable numbers."
   ]
  },
  {
   "cell_type": "code",
   "execution_count": 1,
   "id": "392609bd",
   "metadata": {},
   "outputs": [
    {
     "name": "stdout",
     "output_type": "stream",
     "text": [
      "[4, 3, 2, 1]\n"
     ]
    },
    {
     "data": {
      "text/plain": [
       "list"
      ]
     },
     "execution_count": 1,
     "metadata": {},
     "output_type": "execute_result"
    }
   ],
   "source": [
    "no=[4,3,2,1]\n",
    "print(no)\n",
    "type(no)"
   ]
  },
  {
   "cell_type": "markdown",
   "id": "409967f0",
   "metadata": {},
   "source": [
    "# 3). Create a copy of the number list using [:]"
   ]
  },
  {
   "cell_type": "code",
   "execution_count": 3,
   "id": "62a89a2d",
   "metadata": {},
   "outputs": [
    {
     "data": {
      "text/plain": [
       "[4, 3, 2, 1]"
      ]
     },
     "execution_count": 3,
     "metadata": {},
     "output_type": "execute_result"
    }
   ],
   "source": [
    "num_copy=no[:]\n",
    "num_copy"
   ]
  },
  {
   "cell_type": "markdown",
   "id": "14ce132b",
   "metadata": {},
   "source": [
    "# 4). Sort the numbers list in numerical order"
   ]
  },
  {
   "cell_type": "code",
   "execution_count": 5,
   "id": "c3b7baff",
   "metadata": {},
   "outputs": [
    {
     "data": {
      "text/plain": [
       "[1, 2, 3, 4]"
      ]
     },
     "execution_count": 5,
     "metadata": {},
     "output_type": "execute_result"
    }
   ],
   "source": [
    "no.sort()\n",
    "no"
   ]
  },
  {
   "cell_type": "markdown",
   "id": "4f7283f9",
   "metadata": {},
   "source": [
    "# 5). Create a tuple \"cardinal_numbers\" with \"first\", \"second\" and \"third\""
   ]
  },
  {
   "cell_type": "code",
   "execution_count": 6,
   "id": "b47308f3",
   "metadata": {},
   "outputs": [
    {
     "data": {
      "text/plain": [
       "('first', 'second', 'third')"
      ]
     },
     "execution_count": 6,
     "metadata": {},
     "output_type": "execute_result"
    }
   ],
   "source": [
    "cardinal_numbers=('first','second','third')\n",
    "cardinal_numbers"
   ]
  },
  {
   "cell_type": "markdown",
   "id": "216ba3ad",
   "metadata": {},
   "source": [
    "# 6) Display the second object in the above tuple"
   ]
  },
  {
   "cell_type": "code",
   "execution_count": 7,
   "id": "f2fff690",
   "metadata": {},
   "outputs": [
    {
     "data": {
      "text/plain": [
       "'second'"
      ]
     },
     "execution_count": 7,
     "metadata": {},
     "output_type": "execute_result"
    }
   ],
   "source": [
    "cardinal_numbers[1]"
   ]
  },
  {
   "cell_type": "markdown",
   "id": "89cdba93",
   "metadata": {},
   "source": [
    "# 7). Unpack the tuple into three strings and display them"
   ]
  },
  {
   "cell_type": "code",
   "execution_count": 8,
   "id": "6c7a5b4b",
   "metadata": {},
   "outputs": [
    {
     "name": "stdout",
     "output_type": "stream",
     "text": [
      "first\n",
      "second\n",
      "third\n"
     ]
    }
   ],
   "source": [
    "position1,position2,position3=cardinal_numbers\n",
    "print(position1)\n",
    "print(position2)\n",
    "print(position3)"
   ]
  },
  {
   "cell_type": "markdown",
   "id": "c4715b08",
   "metadata": {},
   "source": [
    "# 8). Create a tuple containing the letters of your name from a string"
   ]
  },
  {
   "cell_type": "code",
   "execution_count": 9,
   "id": "9605766c",
   "metadata": {},
   "outputs": [
    {
     "data": {
      "text/plain": [
       "('T', 'a', 'p', 'a', 's', ' ', 'P', 'r', 'a', 'd', 'h', 'a', 'n')"
      ]
     },
     "execution_count": 9,
     "metadata": {},
     "output_type": "execute_result"
    }
   ],
   "source": [
    "my_name=tuple(\"Tapas Pradhan\")\n",
    "my_name"
   ]
  },
  {
   "cell_type": "markdown",
   "id": "88c02668",
   "metadata": {},
   "source": [
    "# 9). Check whether or not x is in my_name"
   ]
  },
  {
   "cell_type": "code",
   "execution_count": 10,
   "id": "f44f6adf",
   "metadata": {},
   "outputs": [
    {
     "name": "stdout",
     "output_type": "stream",
     "text": [
      "False\n"
     ]
    }
   ],
   "source": [
    "print(\"x\" in my_name)"
   ]
  },
  {
   "cell_type": "markdown",
   "id": "4d8caf93",
   "metadata": {},
   "source": [
    "# 10). Check whether or not s is in my_name"
   ]
  },
  {
   "cell_type": "code",
   "execution_count": 11,
   "id": "2c6b6c90",
   "metadata": {},
   "outputs": [
    {
     "name": "stdout",
     "output_type": "stream",
     "text": [
      "True\n"
     ]
    }
   ],
   "source": [
    "print(\"s\" in my_name)"
   ]
  },
  {
   "cell_type": "code",
   "execution_count": 12,
   "id": "ea9698b0",
   "metadata": {},
   "outputs": [
    {
     "name": "stdout",
     "output_type": "stream",
     "text": [
      "False\n"
     ]
    }
   ],
   "source": [
    "print(\"s\" not in my_name)"
   ]
  },
  {
   "cell_type": "code",
   "execution_count": null,
   "id": "1b7346eb",
   "metadata": {},
   "outputs": [],
   "source": []
  }
 ],
 "metadata": {
  "kernelspec": {
   "display_name": "Python 3 (ipykernel)",
   "language": "python",
   "name": "python3"
  },
  "language_info": {
   "codemirror_mode": {
    "name": "ipython",
    "version": 3
   },
   "file_extension": ".py",
   "mimetype": "text/x-python",
   "name": "python",
   "nbconvert_exporter": "python",
   "pygments_lexer": "ipython3",
   "version": "3.10.9"
  }
 },
 "nbformat": 4,
 "nbformat_minor": 5
}
